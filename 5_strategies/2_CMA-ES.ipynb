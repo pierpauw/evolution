{
 "cells": [
  {
   "cell_type": "markdown",
   "metadata": {
    "slideshow": {
     "slide_type": "slide"
    }
   },
   "source": [
    "<img src=\"../imgs/logo.png\" width=\"20%\" align=\"right\" style=\"margin:0px 20px\">\n",
    "\n",
    "\n",
    "# Evolutionary Computation\n",
    "\n",
    "## 5.2 CMA-ES\n",
    "\n",
    "<a rel=\"license\" href=\"http://creativecommons.org/licenses/by-sa/4.0/\"><img alt=\"Creative Commons License\" align=\"left\" src=\"https://i.creativecommons.org/l/by-sa/4.0/80x15.png\" /></a>&nbsp;| Dennis G. Wilson | <a href=\"https://d9w.github.io/evolution/\">https://d9w.github.io/evolution/</a>"
   ]
  },
  {
   "cell_type": "markdown",
   "metadata": {
    "slideshow": {
     "slide_type": "slide"
    }
   },
   "source": [
    "# CMA-ES\n",
    "\n",
    "In this section, we'll discuss the Covariance Matrix Adaptation Evolutionary Strategy, or CMA-ES [1, 2]. This is one of the most well-known evolutionary algorithms in general and is a state-of-the-art algorithm for continuous optimization. The strength of this method is that it adapts the distribution it uses to generate the next population based on the current distribution of individuals. In the previous section, we were limited to a Normal distribution with a fixed $\\sigma$. The adaptive distribution of CMA-ES means it will cross search spaces faster and narrow in more exactly on optimal points.\n",
    "\n",
    "[1] Hansen, Nikolaus, and Andreas Ostermeier. \"Adapting arbitrary normal mutation distributions in evolution strategies: The covariance matrix adaptation.\" Proceedings of IEEE international conference on evolutionary computation. IEEE, 1996.\n",
    "\n",
    "[2] Hansen, Nikolaus, and Andreas Ostermeier. \"Completely derandomized self-adaptation in evolution strategies.\" Evolutionary computation 9.2 (2001): 159-195."
   ]
  },
  {
   "cell_type": "markdown",
   "metadata": {
    "slideshow": {
     "slide_type": "slide"
    }
   },
   "source": [
    "Let's go through a simplified version of the algorithm from [3]. There are improvements to CMA-ES beyond this basic framework, but that's beyond the scope of today. [4] provides a good review of different CMA-ES modifications.\n",
    "\n",
    "[3] Hans-Georg Beyer (2007) Evolution strategies. Scholarpedia, 2(8):1965.\n",
    "\n",
    "[4] Hansen, Nikolaus. \"The CMA evolution strategy: a comparing review.\" Towards a new evolutionary computation. Springer, Berlin, Heidelberg, 2006. 75-102."
   ]
  },
  {
   "cell_type": "markdown",
   "metadata": {
    "slideshow": {
     "slide_type": "slide"
    }
   },
   "source": [
    "We'll start by creating a random individual $\\mathbf{y}$ which will be our first expert. We also create a diagonal covariance matrix $\\mathbf{C}$."
   ]
  },
  {
   "cell_type": "markdown",
   "metadata": {
    "slideshow": {
     "slide_type": "fragment"
    }
   },
   "source": [
    "$\\mbox{(L1):} \\quad \n",
    "  \\forall l=1, \\ldots, \\lambda : \\;\\;\n",
    "  \\begin{cases}\n",
    "   & \\mathbf{w}_l \n",
    "          \\leftarrow \\sigma \\sqrt{ \\mathbf{C} } \\,\n",
    "          \\mathbf{N}_l(\\mathbf{0}, \\mathbf{1}),\\\\[2mm]\n",
    "   & \\mathbf{y}_l \\leftarrow \\mathbf{y}  + \\mathbf{w}_l, \\\\[2mm]\n",
    "   & F_l \\leftarrow F(\\mathbf{y}_l),\n",
    "  \\end{cases}$"
   ]
  },
  {
   "cell_type": "markdown",
   "metadata": {
    "slideshow": {
     "slide_type": "fragment"
    }
   },
   "source": [
    "In the first step, (L1), $\\lambda$ offspring $\\mathbf{y}_l$ are created by transforming standard normally distributed random vectors using a transformation matrix $\\sqrt{\\mathbf{C}}$ which is given by Cholesky decomposition of the covariance matrix $\\mathbf{C}$ and the global step size factor $\\sigma$. We also evaluate every individual, creating $F$."
   ]
  },
  {
   "cell_type": "markdown",
   "metadata": {
    "slideshow": {
     "slide_type": "fragment"
    }
   },
   "source": [
    "$\\mbox{(L2):} \\quad \n",
    "      \\mathbf{y} \\leftarrow \\mathbf{y} + \\langle \\mathbf{w} \\rangle$"
   ]
  },
  {
   "cell_type": "markdown",
   "metadata": {
    "slideshow": {
     "slide_type": "fragment"
    }
   },
   "source": [
    "In (L2) the best $\\mu$ mutations are recombined forming the recombinant $\\mathbf{y}$ (center of mass individual) for the next generation. "
   ]
  },
  {
   "cell_type": "markdown",
   "metadata": {
    "slideshow": {
     "slide_type": "slide"
    }
   },
   "source": [
    "$\\mbox{(L3):} \\quad \n",
    "            \\mathbf{s} \\leftarrow \\left(1-\\frac{1}{\\tau}\\right)\\mathbf{s}\n",
    "          + \\sqrt{\\frac{\\mu}{\\tau} \\left(2-\\frac{1}{\\tau}\\right)} \\,\n",
    "            \\frac{\\langle \\mathbf{w} \\rangle}{\\sigma}$"
   ]
  },
  {
   "cell_type": "markdown",
   "metadata": {
    "slideshow": {
     "slide_type": "fragment"
    }
   },
   "source": [
    "Vector $\\langle \\mathbf{w} \\rangle$ combines individuals from two consecutive generations so $\\langle \\mathbf{w} \\rangle/\\sigma$ represents the tendency of evolution in the search space. In (L3), this information is cumulated in the $\\mathbf{s}$ vector, which exponentially decays with the time constant $\\tau$. A good default for this is $\\tau=\\sqrt{n}$."
   ]
  },
  {
   "cell_type": "markdown",
   "metadata": {
    "slideshow": {
     "slide_type": "fragment"
    }
   },
   "source": [
    "$\\mbox{(L4):} \\quad \n",
    "      \\mathbf{C} \\leftarrow \n",
    "      \\left(1-\\frac{1}{\\tau_{\\mathrm{c}}}\\right)\\mathbf{C}\n",
    "              + \\frac{1}{\\tau_{\\mathrm{c}}} \\mathbf{s} \\mathbf{s}^T$"
   ]
  },
  {
   "cell_type": "markdown",
   "metadata": {
    "slideshow": {
     "slide_type": "fragment"
    }
   },
   "source": [
    "In (L4), the direction vector $\\mathbf{s}$ is used to update the covariance matrix $\\mathbf{C}$ with time constant $\\tau_{\\mathrm{c}} \\propto n^2$"
   ]
  },
  {
   "cell_type": "markdown",
   "metadata": {
    "slideshow": {
     "slide_type": "slide"
    }
   },
   "source": [
    "$\\mbox{(L5):} \\quad  \n",
    "       \\mathbf{s}_\\sigma\n",
    "       \\leftarrow \\left(1-\\frac{1}{\\tau_\\sigma}\\right) \\mathbf{s}_\\sigma\n",
    "                  + \\sqrt{\\frac{\\mu}{\\tau_\\sigma}\n",
    "                    \\left(2-\\frac{1}{\\tau_\\sigma}\\right)} \\,\n",
    "                      \\langle \\mathbf{N}(\\mathbf{0}, \\mathbf{1}) \\rangle$"
   ]
  },
  {
   "cell_type": "markdown",
   "metadata": {
    "slideshow": {
     "slide_type": "slide"
    }
   },
   "source": [
    "$\\mbox{(L6):} \\quad  \n",
    "      \\sigma \\leftarrow \\sigma\\exp\\left[\n",
    "                        \\frac{\\| \\mathbf{s}_{\\sigma} \\|^2 - n}\n",
    "                                   {2 n \\sqrt{n} }\n",
    "                                        \\right]$"
   ]
  },
  {
   "cell_type": "markdown",
   "metadata": {
    "slideshow": {
     "slide_type": "fragment"
    }
   },
   "source": [
    "The distribution standard deviation $\\sigma$ is then calculated in (L5) and (L6) using the cumulated step size adaptation (CSA) technique with time constant $\\tau_\\sigma = \\sqrt{n}$ (initially $\\mathbf{s}_\\sigma = \\mathbf{0}$). $\\langle \\mathbf{N}(\\mathbf{0}, \\mathbf{1}) \\rangle$ is the distribution we calculated in (L1). "
   ]
  },
  {
   "cell_type": "markdown",
   "metadata": {
    "slideshow": {
     "slide_type": "slide"
    }
   },
   "source": [
    "So instead of simply using a Normal distribution to create the next generation, CMA-ES transforms a normal distribution by the covariance matrix $\\mathbf{C}$. It also moves at self-adjusting $\\sigma$. This makes its movement around the search space much more effective, as it is informed by the shape of the search space given through the fitness values $F$."
   ]
  },
  {
   "cell_type": "markdown",
   "metadata": {
    "slideshow": {
     "slide_type": "fragment"
    }
   },
   "source": [
    "Let's see an example of that."
   ]
  },
  {
   "cell_type": "code",
   "execution_count": 1,
   "metadata": {
    "slideshow": {
     "slide_type": "slide"
    }
   },
   "outputs": [],
   "source": [
    "using Random\n",
    "using LinearAlgebra\n",
    "using Statistics\n",
    "using Plots"
   ]
  },
  {
   "cell_type": "code",
   "execution_count": 2,
   "metadata": {
    "slideshow": {
     "slide_type": "fragment"
    }
   },
   "outputs": [
    {
     "data": {
      "text/plain": [
       "sphere (generic function with 1 method)"
      ]
     },
     "execution_count": 2,
     "metadata": {},
     "output_type": "execute_result"
    }
   ],
   "source": [
    "solution = [3.5, -0.2]\n",
    "sphere(x::Array{Float64}) = sum((x .- solution).^2)\n",
    "himmelblau(x::Array{Float64}) = (x[1]^2 + x[2] - 11)^2 + (x[1] + x[2]^2 - 7)^2\n",
    "styblinski_tang(x::Array{Float64}) = sum(x.^4 .- 16 .* x.^2 .+ 5 .* x) / 2.0\n",
    "rastrigin(x::Array{Float64}) = 10.0 * length(x) .+ sum((x .- solution).^2 .- 10 .* cos.(2*pi.*(x .- solution)))\n",
    "objective = sphere"
   ]
  },
  {
   "cell_type": "markdown",
   "metadata": {
    "slideshow": {
     "slide_type": "slide"
    }
   },
   "source": [
    "As with last time, we'll optimize over 2 continuous variables. We'll set default values of the time constants based on $N$. These are recommended values for CMA-ES [5]\n",
    "\n",
    "[5] Hansen, Nikolaus, Sibylle D. Müller, and Petros Koumoutsakos. \"Reducing the time complexity of the derandomized evolution strategy with covariance matrix adaptation (CMA-ES).\" Evolutionary computation 11.1 (2003): 1-18."
   ]
  },
  {
   "cell_type": "code",
   "execution_count": 3,
   "metadata": {
    "slideshow": {
     "slide_type": "fragment"
    }
   },
   "outputs": [],
   "source": [
    "N = 2\n",
    "μ = 5\n",
    "λ = 10\n",
    "τ = sqrt(N)\n",
    "τ_c = N^2\n",
    "τ_σ = sqrt(N);"
   ]
  },
  {
   "cell_type": "markdown",
   "metadata": {
    "slideshow": {
     "slide_type": "slide"
    }
   },
   "source": [
    "Now let's make our random expert and create placeholder fitness and offspring vectors."
   ]
  },
  {
   "cell_type": "code",
   "execution_count": 4,
   "metadata": {
    "slideshow": {
     "slide_type": "fragment"
    }
   },
   "outputs": [],
   "source": [
    "y = randn(N)\n",
    "offspring = Array{Array{Float64}}(undef, λ)\n",
    "F = Inf .* ones(λ);"
   ]
  },
  {
   "cell_type": "markdown",
   "metadata": {
    "slideshow": {
     "slide_type": "fragment"
    }
   },
   "source": [
    "Finally, we need to initialize $\\mathbf{C}, \\mathbf{N}, \\mathbf{w}, \\mathbf{s}, \\mathbf{s_\\sigma},$ and $\\mathbf{\\sigma}$."
   ]
  },
  {
   "cell_type": "code",
   "execution_count": 5,
   "metadata": {
    "slideshow": {
     "slide_type": "fragment"
    }
   },
   "outputs": [],
   "source": [
    "C = Diagonal{Float64}(I, N)\n",
    "W = zeros(N, λ)\n",
    "s = zeros(N)\n",
    "s_σ = zeros(N)\n",
    "σ = 1.0\n",
    "E = zeros(N, λ);"
   ]
  },
  {
   "cell_type": "markdown",
   "metadata": {
    "slideshow": {
     "slide_type": "slide"
    }
   },
   "source": [
    "Step 1: We calculate the offspring distribution $\\mathbf{w}$ then center it at the center-of-mass individual $\\mathbf{y}$."
   ]
  },
  {
   "cell_type": "markdown",
   "metadata": {
    "slideshow": {
     "slide_type": "fragment"
    }
   },
   "source": [
    "$\\mbox{(L1):} \\quad \n",
    "  \\forall l=1, \\ldots, \\lambda : \\;\\;\n",
    "  \\begin{cases}\n",
    "   & \\mathbf{w}_l \n",
    "          \\leftarrow \\sigma \\sqrt{ \\mathbf{C} } \\,\n",
    "          \\mathbf{N}_l(\\mathbf{0}, \\mathbf{1}),\\\\[2mm]\n",
    "   & \\mathbf{y}_l \\leftarrow \\mathbf{y}  + \\mathbf{w}_l, \\\\[2mm]\n",
    "   & F_l \\leftarrow F(\\mathbf{y}_l),\n",
    "  \\end{cases}$"
   ]
  },
  {
   "cell_type": "code",
   "execution_count": 6,
   "metadata": {
    "slideshow": {
     "slide_type": "fragment"
    }
   },
   "outputs": [
    {
     "data": {
      "text/plain": [
       "2×2 Diagonal{Float64,Array{Float64,1}}:\n",
       " 1.0   ⋅ \n",
       "  ⋅   1.0"
      ]
     },
     "execution_count": 6,
     "metadata": {},
     "output_type": "execute_result"
    }
   ],
   "source": [
    "sqrt_c = cholesky((C + C') / 2.0).U"
   ]
  },
  {
   "cell_type": "markdown",
   "metadata": {
    "slideshow": {
     "slide_type": "fragment"
    }
   },
   "source": [
    "Note that our $\\mathbf{C}$ covariance matrix is currently 1, so this first distribution will just be a normal distribution without any transformation. We will then evaluate every individual."
   ]
  },
  {
   "cell_type": "code",
   "execution_count": 7,
   "metadata": {
    "slideshow": {
     "slide_type": "slide"
    }
   },
   "outputs": [],
   "source": [
    "for i in 1:λ\n",
    "    E[:,i] = randn(N)\n",
    "    W[:,i] = σ * (sqrt_c * E[:,i])\n",
    "    offspring[i] = y + W[:,i]\n",
    "    F[i] = objective(offspring[i])\n",
    "end"
   ]
  },
  {
   "cell_type": "markdown",
   "metadata": {
    "slideshow": {
     "slide_type": "fragment"
    }
   },
   "source": [
    "Now that we have evaluated the individuals, we will select a subset of them to inform the next generation. We'll simply use a truncation selection, taking the top $\\mu$ individuals."
   ]
  },
  {
   "cell_type": "code",
   "execution_count": 8,
   "metadata": {
    "slideshow": {
     "slide_type": "fragment"
    }
   },
   "outputs": [
    {
     "data": {
      "text/plain": [
       "5-element Array{Int64,1}:\n",
       " 3\n",
       " 6\n",
       " 1\n",
       " 9\n",
       " 8"
      ]
     },
     "execution_count": 8,
     "metadata": {},
     "output_type": "execute_result"
    }
   ],
   "source": [
    "idx = sortperm(F)[1:μ]"
   ]
  },
  {
   "cell_type": "markdown",
   "metadata": {
    "slideshow": {
     "slide_type": "slide"
    }
   },
   "source": [
    "Now step 2. We update $\\mathbf{y}$ using the top $\\mu$ individuals in $\\mathbf{w}$"
   ]
  },
  {
   "cell_type": "markdown",
   "metadata": {
    "slideshow": {
     "slide_type": "fragment"
    }
   },
   "source": [
    "$\\mbox{(L2):} \\quad \n",
    "      \\mathbf{y} \\leftarrow \\mathbf{y} + \\langle \\mathbf{w} \\rangle$"
   ]
  },
  {
   "cell_type": "code",
   "execution_count": 9,
   "metadata": {
    "slideshow": {
     "slide_type": "fragment"
    }
   },
   "outputs": [
    {
     "data": {
      "text/plain": [
       "2-element Array{Float64,1}:\n",
       "  0.20064652764042945\n",
       " -1.1430192221832338"
      ]
     },
     "execution_count": 9,
     "metadata": {},
     "output_type": "execute_result"
    }
   ],
   "source": [
    "w = vec(mean(W[:,idx], dims=2))\n",
    "y += w"
   ]
  },
  {
   "cell_type": "markdown",
   "metadata": {
    "slideshow": {
     "slide_type": "slide"
    }
   },
   "source": [
    "In step 3, we update the direction vector $\\mathbf{s}$."
   ]
  },
  {
   "cell_type": "markdown",
   "metadata": {
    "slideshow": {
     "slide_type": "fragment"
    }
   },
   "source": [
    "$\\mbox{(L3):} \\quad \n",
    "            \\mathbf{s} \\leftarrow \\left(1-\\frac{1}{\\tau}\\right)\\mathbf{s}\n",
    "          + \\sqrt{\\frac{\\mu}{\\tau} \\left(2-\\frac{1}{\\tau}\\right)} \\,\n",
    "            \\frac{\\langle \\mathbf{w} \\rangle}{\\sigma}$"
   ]
  },
  {
   "cell_type": "code",
   "execution_count": 10,
   "metadata": {
    "slideshow": {
     "slide_type": "fragment"
    }
   },
   "outputs": [
    {
     "data": {
      "text/plain": [
       "2-element Array{Float64,1}:\n",
       " 1.3992943444985655\n",
       " 0.6969428872460897"
      ]
     },
     "execution_count": 10,
     "metadata": {},
     "output_type": "execute_result"
    }
   ],
   "source": [
    "s = (1.0 - 1.0/τ)*s + (sqrt(μ/τ * (2.0 - 1.0/τ))/σ)*w"
   ]
  },
  {
   "cell_type": "markdown",
   "metadata": {
    "slideshow": {
     "slide_type": "fragment"
    }
   },
   "source": [
    "Next we update our covariance matrix $\\mathbf{C}$. Note that it will no longer be a diagonal matrix: our next update will use a transformed distribution to generate the population."
   ]
  },
  {
   "cell_type": "markdown",
   "metadata": {
    "slideshow": {
     "slide_type": "slide"
    }
   },
   "source": [
    "$\\mbox{(L4):} \\quad \n",
    "      \\mathbf{C} \\leftarrow \n",
    "      \\left(1-\\frac{1}{\\tau_{\\mathrm{c}}}\\right)\\mathbf{C}\n",
    "              + \\frac{1}{\\tau_{\\mathrm{c}}} \\mathbf{s} \\mathbf{s}^T$"
   ]
  },
  {
   "cell_type": "code",
   "execution_count": 11,
   "metadata": {
    "slideshow": {
     "slide_type": "fragment"
    }
   },
   "outputs": [
    {
     "data": {
      "text/plain": [
       "2×2 Array{Float64,2}:\n",
       " 1.23951   0.243807\n",
       " 0.243807  0.871432"
      ]
     },
     "execution_count": 11,
     "metadata": {},
     "output_type": "execute_result"
    }
   ],
   "source": [
    "C = (1.0 - 1.0/τ_c).*C + (s./τ_c)*s'"
   ]
  },
  {
   "cell_type": "markdown",
   "metadata": {
    "slideshow": {
     "slide_type": "slide"
    }
   },
   "source": [
    "Finally, we update the $\\sigma$, which is the standard deviation of the distribution we generate in the first step. Note that its initial value was `1.0`."
   ]
  },
  {
   "cell_type": "markdown",
   "metadata": {
    "slideshow": {
     "slide_type": "fragment"
    }
   },
   "source": [
    "$\\mbox{(L5):} \\quad  \n",
    "       \\mathbf{s}_\\sigma\n",
    "       \\leftarrow \\left(1-\\frac{1}{\\tau_\\sigma}\\right) \\mathbf{s}_\\sigma\n",
    "                  + \\sqrt{\\frac{\\mu}{\\tau_\\sigma}\n",
    "                    \\left(2-\\frac{1}{\\tau_\\sigma}\\right)} \\,\n",
    "                      \\langle \\mathbf{N}(\\mathbf{0}, \\mathbf{1}) \\rangle$"
   ]
  },
  {
   "cell_type": "markdown",
   "metadata": {
    "slideshow": {
     "slide_type": "fragment"
    }
   },
   "source": [
    "$\\mbox{(L6):} \\quad  \n",
    "      \\sigma \\leftarrow \\sigma\\exp\\left[\n",
    "                        \\frac{\\| \\mathbf{s}_{\\sigma} \\|^2 - n}\n",
    "                                   {2 n \\sqrt{n} }\n",
    "                                        \\right]$"
   ]
  },
  {
   "cell_type": "code",
   "execution_count": 12,
   "metadata": {
    "slideshow": {
     "slide_type": "fragment"
    }
   },
   "outputs": [
    {
     "data": {
      "text/plain": [
       "1.0816042704767912"
      ]
     },
     "execution_count": 12,
     "metadata": {},
     "output_type": "execute_result"
    }
   ],
   "source": [
    "ɛ = vec(mean(E[:,idx], dims=2))\n",
    "s_σ = (1.0 - 1.0/τ_σ)*s_σ + sqrt(μ/τ_σ*(2.0 - 1.0/τ_σ))*ɛ\n",
    "σ = σ*exp(((s_σ'*s_σ)[1] - N)/(2*N*sqrt(N)))"
   ]
  },
  {
   "cell_type": "markdown",
   "metadata": {
    "slideshow": {
     "slide_type": "fragment"
    }
   },
   "source": [
    "That's a lot! Let's put it all together in an object and see how it runs over multiple iterations."
   ]
  },
  {
   "cell_type": "code",
   "execution_count": 13,
   "metadata": {
    "slideshow": {
     "slide_type": "slide"
    }
   },
   "outputs": [],
   "source": [
    "mutable struct CMAES\n",
    "    N::Int\n",
    "    μ::Int\n",
    "    λ::Int\n",
    "    τ::Float64\n",
    "    τ_c::Float64\n",
    "    τ_σ::Float64\n",
    "    population::Array{Array{Float64}}\n",
    "    offspring::Array{Array{Float64}}\n",
    "    F_μ::Array{Float64}\n",
    "    F_λ::Array{Float64}\n",
    "    C::Array{Float64}\n",
    "    s::Array{Float64}\n",
    "    s_σ::Array{Float64}\n",
    "    σ::Float64\n",
    "    E::Array{Float64}\n",
    "    W::Array{Float64}\n",
    "    x::Array{Float64}\n",
    "end"
   ]
  },
  {
   "cell_type": "code",
   "execution_count": 65,
   "metadata": {
    "slideshow": {
     "slide_type": "slide"
    }
   },
   "outputs": [
    {
     "data": {
      "text/plain": [
       "CMAES"
      ]
     },
     "execution_count": 65,
     "metadata": {},
     "output_type": "execute_result"
    }
   ],
   "source": [
    "function CMAES(;N=2, μ=4, λ=13, τ=sqrt(N), τ_c=N^2, τ_σ=sqrt(N))\n",
    "    x = randn(N)\n",
    "    population = fill(x, µ)\n",
    "    offspring = Array{Array{Float64}}(undef, λ)\n",
    "    F_µ = Inf .* ones(µ)\n",
    "    F_λ = Inf .* ones(λ)\n",
    "    C = Array(Diagonal{Float64}(I, N))\n",
    "    s = zeros(N)\n",
    "    s_σ = zeros(N)\n",
    "    σ = 1.0\n",
    "    E = zeros(N, λ)\n",
    "    W = zeros(N, λ);\n",
    "    CMAES(N, μ, λ, τ, τ_c, τ_σ, population, offspring, F_µ, F_λ, C, s, s_σ, σ, E, W, x)\n",
    "end"
   ]
  },
  {
   "cell_type": "code",
   "execution_count": 15,
   "metadata": {
    "scrolled": true,
    "slideshow": {
     "slide_type": "fragment"
    }
   },
   "outputs": [
    {
     "data": {
      "text/plain": [
       "CMAES(2, 1, 10, 1.4142135623730951, 4.0, 1.4142135623730951, Array{Float64,N} where N[[-0.6383077768665562, 0.21349472034163783]], Array{Float64,N} where N[#undef, #undef, #undef, #undef, #undef, #undef, #undef, #undef, #undef, #undef], [Inf], [Inf, Inf, Inf, Inf, Inf, Inf, Inf, Inf, Inf, Inf], [1.0 0.0; 0.0 1.0], [0.0, 0.0], [0.0, 0.0], 1.0, [0.0 0.0 … 0.0 0.0; 0.0 0.0 … 0.0 0.0], [0.0 0.0 … 0.0 0.0; 0.0 0.0 … 0.0 0.0], [-0.6383077768665562, 0.21349472034163783])"
      ]
     },
     "execution_count": 15,
     "metadata": {},
     "output_type": "execute_result"
    }
   ],
   "source": [
    "c = CMAES()"
   ]
  },
  {
   "cell_type": "code",
   "execution_count": 16,
   "metadata": {
    "slideshow": {
     "slide_type": "slide"
    }
   },
   "outputs": [
    {
     "data": {
      "text/plain": [
       "step! (generic function with 1 method)"
      ]
     },
     "execution_count": 16,
     "metadata": {},
     "output_type": "execute_result"
    }
   ],
   "source": [
    "function step!(c::CMAES; obj=objective, visualize=false, anim=Nothing)\n",
    "    # L1\n",
    "    sqrt_c = cholesky((c.C + c.C') / 2.0).U\n",
    "    for i in 1:c.λ\n",
    "        c.E[:,i] = randn(c.N)\n",
    "        c.W[:,i] = c.σ * (sqrt_c * c.E[:,i])\n",
    "        c.offspring[i] = c.x + c.W[:,i]\n",
    "        c.F_λ[i] = obj(c.offspring[i])\n",
    "    end    \n",
    "    # Select new parent population\n",
    "    idx = sortperm(c.F_λ)[1:c.μ]\n",
    "    for i in 1:c.μ\n",
    "        c.population[i] = c.offspring[idx[i]]\n",
    "        c.F_μ[i] = c.F_λ[idx[i]]\n",
    "    end    \n",
    "    # L2\n",
    "    w = vec(mean(c.W[:,idx], dims=2))\n",
    "    c.x += w    \n",
    "    # L3\n",
    "    c.s = (1.0 - 1.0/c.τ)*c.s + (sqrt(c.μ/c.τ * (2.0 - 1.0/c.τ))/c.σ)*w   \n",
    "    # L4\n",
    "    c.C = (1.0 - 1.0/c.τ_c).*c.C + (c.s./c.τ_c)*c.s'    \n",
    "    # L5\n",
    "    ɛ = vec(mean(c.E[:,idx], dims=2))\n",
    "    c.s_σ = (1.0 - 1.0/c.τ_σ)*c.s_σ + sqrt(c.μ/c.τ_σ*(2.0 - 1.0/c.τ_σ))*ɛ    \n",
    "    # L6\n",
    "    c.σ = c.σ*exp(((c.s_σ'*c.s_σ)[1] - c.N)/(2*c.N*sqrt(c.N)))\n",
    "    if visualize\n",
    "        plot(xs, ys, fz, st=:contour)\n",
    "        scatter!([c.offspring[i][1] for i in 1:λ], [c.offspring[i][2] for i in 1:λ], \n",
    "            xlims=(-5, 5), ylims=(-5, 5), legend=:none)\n",
    "        scatter!([c.x[1]], [c.x[2]], color=:black, marker=:rect,\n",
    "            xlims=(-5, 5), ylims=(-5, 5), legend=:none)\n",
    "        frame(anim)\n",
    "    end\n",
    "    c\n",
    "end"
   ]
  },
  {
   "cell_type": "code",
   "execution_count": 17,
   "metadata": {
    "slideshow": {
     "slide_type": "slide"
    }
   },
   "outputs": [
    {
     "data": {
      "text/plain": [
       "plot_obj (generic function with 1 method)"
      ]
     },
     "execution_count": 17,
     "metadata": {},
     "output_type": "execute_result"
    }
   ],
   "source": [
    "function plot_obj()\n",
    "    c = CMAES()\n",
    "    println(\"x initial: \", c.x)\n",
    "    anim = Animation()\n",
    "    for i in 1:100\n",
    "        v = mod(i, 1) == 0\n",
    "        step!(c, visualize=v, anim=anim)\n",
    "    end\n",
    "    println(\"x final: \", c.x)\n",
    "    gif(anim)\n",
    "end"
   ]
  },
  {
   "cell_type": "code",
   "execution_count": 44,
   "metadata": {
    "slideshow": {
     "slide_type": "slide"
    }
   },
   "outputs": [
    {
     "name": "stdout",
     "output_type": "stream",
     "text": [
      "[3.5, -0.2]\n",
      "x initial: [-0.2564039768168562, -0.7159549444056578]\n",
      "x final: [3.499999999857753, -0.1999999998876066]\n"
     ]
    },
    {
     "name": "stderr",
     "output_type": "stream",
     "text": [
      "┌ Info: Saved animation to \n",
      "│   fn = /home/pierre/Evolution/5_strategies/tmp.gif\n",
      "└ @ Plots /home/pierre/.julia/packages/Plots/ZRCUN/src/animation.jl:102\n"
     ]
    },
    {
     "data": {
      "text/html": [
       "<img src=\"data:image/gif;base64,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\" />"
      ],
      "text/plain": [
       "Plots.AnimatedGif(\"/home/pierre/Evolution/5_strategies/tmp.gif\")"
      ]
     },
     "execution_count": 44,
     "metadata": {},
     "output_type": "execute_result"
    }
   ],
   "source": [
    "xs = -5.0:0.1:5.0\n",
    "ys = -5.0:0.1:5.0\n",
    "\n",
    "objective = rastrigin # sphere, himmelblau, styblinski_tang, rastrigin\n",
    "fz(x, y) = objective([x, y])\n",
    "println(solution) # optimal for sphere and rastrigin\n",
    "plot_obj()"
   ]
  },
  {
   "cell_type": "markdown",
   "metadata": {
    "slideshow": {
     "slide_type": "slide"
    }
   },
   "source": [
    "<div class=\"alert alert-success\">\n",
    "    <b>Exercise</b>\n",
    "    <br/>\n",
    "    Modify the parent population size and child population of the problem. Can you get CMA-ES to reliably converge on the Rastrigin function? What about for higer dimensions of $n$? Report your $\\mu$ and $\\lambda$ values in the class chat.\n",
    "</div>    "
   ]
  },
  {
   "cell_type": "raw",
   "metadata": {},
   "source": [
    "dim2\n",
    "\n",
    "Original values :\n",
    "mu = 1, lambda = 10"
   ]
  },
  {
   "cell_type": "code",
   "execution_count": 58,
   "metadata": {},
   "outputs": [
    {
     "data": {
      "text/plain": [
       "not_plot_obj (generic function with 1 method)"
      ]
     },
     "execution_count": 58,
     "metadata": {},
     "output_type": "execute_result"
    }
   ],
   "source": [
    "function not_plot_obj()\n",
    "    c = CMAES()\n",
    "    for i in 1:100\n",
    "        v = mod(i, 1) == 0\n",
    "        step!(c, visualize=false)\n",
    "    end\n",
    "    c.x\n",
    "end"
   ]
  },
  {
   "cell_type": "code",
   "execution_count": 66,
   "metadata": {},
   "outputs": [
    {
     "name": "stdout",
     "output_type": "stream",
     "text": [
      "[3.5, -0.2]\n",
      "0.245\n"
     ]
    }
   ],
   "source": [
    "niter = 200\n",
    "\n",
    "println(solution) # optimal for sphere and rastrigin\n",
    "success = 0\n",
    "for i in 1:niter\n",
    "    fz(x, y) = objective([x, y])\n",
    "    xfinal = not_plot_obj()\n",
    "    if (((xfinal[1]-solution[1])^2+(xfinal[2]-solution[2])^2)<0.01)\n",
    "        success+=1\n",
    "    end\n",
    "end\n",
    "println(success/niter)"
   ]
  },
  {
   "cell_type": "code",
   "execution_count": null,
   "metadata": {},
   "outputs": [],
   "source": []
  }
 ],
 "metadata": {
  "@webio": {
   "lastCommId": null,
   "lastKernelId": null
  },
  "celltoolbar": "Slideshow",
  "kernelspec": {
   "display_name": "Julia 1.4.0",
   "language": "julia",
   "name": "julia-1.4"
  },
  "language_info": {
   "file_extension": ".jl",
   "mimetype": "application/julia",
   "name": "julia",
   "version": "1.4.0"
  }
 },
 "nbformat": 4,
 "nbformat_minor": 2
}
